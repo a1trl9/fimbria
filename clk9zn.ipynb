{
 "cells": [
  {
   "cell_type": "markdown",
   "metadata": {},
   "source": [
    "# About this notebook"
   ]
  },
  {
   "cell_type": "markdown",
   "metadata": {},
   "source": [
    "This notebook records any pieces of what the author learned."
   ]
  },
  {
   "cell_type": "markdown",
   "metadata": {},
   "source": [
    "# Telegram Channel"
   ]
  },
  {
   "cell_type": "markdown",
   "metadata": {},
   "source": [
    "Electron: https://t.me/reclblo"
   ]
  },
  {
   "cell_type": "markdown",
   "metadata": {},
   "source": [
    "# Books"
   ]
  },
  {
   "cell_type": "markdown",
   "metadata": {},
   "source": [
    "Here are some books the author is reading:"
   ]
  },
  {
   "cell_type": "markdown",
   "metadata": {},
   "source": [
    "- [Biology 2e](https://openstax.org/details/books/biology-2e)\n",
    "- [Measure Theory and Probability](https://www.amazon.com/Measure-Theory-Probability-Springer-Statistics/dp/038732903X)\n",
    "- [Real Analysis: Measures, Integrals and Applications](https://www.amazon.com/Real-Analysis-Integrals-Applications-Universitext-ebook-dp-B00DE4OSLG/dp/B00DE4OSLG)"
   ]
  },
  {
   "cell_type": "markdown",
   "metadata": {},
   "source": [
    "# Contact"
   ]
  },
  {
   "cell_type": "code",
   "execution_count": 41,
   "metadata": {},
   "outputs": [
    {
     "name": "stdout",
     "output_type": "stream",
     "text": [
      "to be filled\n",
      "bcq ce+10sar\n",
      "qwerecgowerowerwlcoisdefgwersc matrix calc 26 41\n"
     ]
    }
   ],
   "source": [
    "from typing import List\n",
    "\n",
    "\n",
    "pool: str = 'asdfrervidel[gisdfmadilanfrierufnrf'\n",
    "index: List[int] = [0, 2, 19, 7, 8, 24]\n",
    "\n",
    "print('to be filled')\n",
    "print('bcq', 'ce+10sar')\n",
    "print('qwerecgowerowerwlcoisdefgwersc', 'matrix', 'calc', '26', '41')"
   ]
  },
  {
   "cell_type": "markdown",
   "metadata": {},
   "source": [
    "\\begin{equation}\n",
    "2\\sqrt{2}\\int_0^{\\infty}e^{-\\frac{x}{2}}dx + \\begin{vmatrix}\n",
    "8 & 5 \\\\ \n",
    "1 & 3\n",
    "\\end{vmatrix}\n",
    "\\end{equation}"
   ]
  },
  {
   "cell_type": "code",
   "execution_count": null,
   "metadata": {},
   "outputs": [],
   "source": [
    "Thank you (:"
   ]
  }
 ],
 "metadata": {
  "kernelspec": {
   "display_name": "Python 3",
   "language": "python",
   "name": "python3"
  },
  "language_info": {
   "codemirror_mode": {
    "name": "ipython",
    "version": 3
   },
   "file_extension": ".py",
   "mimetype": "text/x-python",
   "name": "python",
   "nbconvert_exporter": "python",
   "pygments_lexer": "ipython3",
   "version": "3.6.5"
  }
 },
 "nbformat": 4,
 "nbformat_minor": 2
}
